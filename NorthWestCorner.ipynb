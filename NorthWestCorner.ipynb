{
  "nbformat": 4,
  "nbformat_minor": 0,
  "metadata": {
    "colab": {
      "provenance": [],
      "authorship_tag": "ABX9TyMLNZwqBP0fieo3bTEQiLSQ",
      "include_colab_link": true
    },
    "kernelspec": {
      "name": "python3",
      "display_name": "Python 3"
    },
    "language_info": {
      "name": "python"
    }
  },
  "cells": [
    {
      "cell_type": "markdown",
      "metadata": {
        "id": "view-in-github",
        "colab_type": "text"
      },
      "source": [
        "<a href=\"https://colab.research.google.com/github/gangakailas/optimisation-techniques/blob/main/NorthWestCorner.ipynb\" target=\"_parent\"><img src=\"https://colab.research.google.com/assets/colab-badge.svg\" alt=\"Open In Colab\"/></a>"
      ]
    },
    {
      "cell_type": "code",
      "execution_count": 16,
      "metadata": {
        "colab": {
          "base_uri": "https://localhost:8080/"
        },
        "id": "g46OvK3SOwdp",
        "outputId": "cdd2bad8-77fb-4c1b-a561-f2da56fa7fae"
      },
      "outputs": [
        {
          "output_type": "stream",
          "name": "stdout",
          "text": [
            "Enter the no. of sources: 3\n",
            "Enter the no. of destinations: 4\n",
            "Enter the demand in destination 1: 250\n",
            "Enter the demand in destination 2: 350\n",
            "Enter the demand in destination 3: 400\n",
            "Enter the demand in destination 4: 200\n",
            "Enter the supply from source 1: 300\n",
            "Enter the supply from source 2: 400\n",
            "Enter the supply from source 3: 500\n",
            "Enter the cost for destination 1 source 1: 3\n",
            "Enter the cost for destination 2 source 1: 1\n",
            "Enter the cost for destination 3 source 1: 7\n",
            "Enter the cost for destination 4 source 1: 4\n",
            "Enter the cost for destination 1 source 2: 2\n",
            "Enter the cost for destination 2 source 2: 6\n",
            "Enter the cost for destination 3 source 2: 5\n",
            "Enter the cost for destination 4 source 2: 9\n",
            "Enter the cost for destination 1 source 3: 8\n",
            "Enter the cost for destination 2 source 3: 3\n",
            "Enter the cost for destination 3 source 3: 3\n",
            "Enter the cost for destination 4 source 3: 2\n",
            "3 1 7 4 \n",
            "2 6 5 9 \n",
            "8 3 3 2 \n",
            "Total cost =  4400\n"
          ]
        }
      ],
      "source": [
        "\n",
        "def northWest(r, c):   # r is the no. of sources and c is the no. of destinations\n",
        "  cost=0\n",
        "  s=0\n",
        "  d=0\n",
        "  col_list=[]\n",
        "  row_list=[]\n",
        "\n",
        "  for i in range(r):\n",
        "      row_list.append(i)\n",
        "  for i in range(c):\n",
        "      col_list.append(i)\n",
        "  while s<r and d<c:\n",
        "    if demand[d]<supply[s]:\n",
        "      cost=cost+cell[s][d]*demand[d]\n",
        "      supply[s]=supply[s]-demand[d]\n",
        "      demand[d]=0\n",
        "\n",
        "      col_list.remove(d)\n",
        "\n",
        "    elif demand[d]>supply[s]:\n",
        "      cost=cost+cell[s][d]*supply[s]\n",
        "      demand[d]=demand[d]-supply[s]\n",
        "      supply[s]=0\n",
        "\n",
        "      row_list.remove(s)\n",
        "\n",
        "    elif demand[d]==supply[s]:\n",
        "      cost=cost+cell[s][d]*supply[s]\n",
        "      supply[s]=0\n",
        "      demand[d]=0\n",
        "\n",
        "      col_list.remove(d)\n",
        "      row_list.remove(s)\n",
        "\n",
        "    if row_list==[] or col_list==[]:\n",
        "      break\n",
        "    else:\n",
        "      s=min(row_list)\n",
        "      d=min(col_list)\n",
        "\n",
        "\n",
        "  return cost\n",
        "\n",
        "\n",
        "r= int(input(\"Enter the no. of sources: \"))\n",
        "c= int(input(\"Enter the no. of destinations: \"))\n",
        "\n",
        "cell=[]\n",
        "demand=[]\n",
        "supply=[]\n",
        "\n",
        "for i in range(c):\n",
        "  d=int(input(f\"Enter the demand in destination {i+1}: \"))\n",
        "  demand.append(d)\n",
        "\n",
        "for i in range(r):\n",
        "  s=int(input(f\"Enter the supply from source {i+1}: \"))\n",
        "  supply.append(s)\n",
        "\n",
        "for i in range(r):\n",
        "  a=[]\n",
        "  for j in range(c):\n",
        "    cost=int(input(f\"Enter the cost for destination {j+1} source {i+1}: \"))\n",
        "    a.append(cost)\n",
        "  cell.append(a)\n",
        "\n",
        "for i in range(r):\n",
        "  for j in range(c):\n",
        "    print(cell[i][j], end=\" \")\n",
        "  print()\n",
        "\n",
        "\n",
        "tot_cost = northWest(r, c)\n",
        "print(\"Total cost = \",tot_cost)"
      ]
    }
  ]
}