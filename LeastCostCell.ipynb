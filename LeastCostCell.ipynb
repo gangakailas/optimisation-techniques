{
  "cells": [
    {
      "cell_type": "markdown",
      "metadata": {
        "id": "view-in-github",
        "colab_type": "text"
      },
      "source": [
        "<a href=\"https://colab.research.google.com/github/gangakailas/optimisation-techniques/blob/main/LeastCostCell.ipynb\" target=\"_parent\"><img src=\"https://colab.research.google.com/assets/colab-badge.svg\" alt=\"Open In Colab\"/></a>"
      ]
    },
    {
      "cell_type": "code",
      "execution_count": null,
      "metadata": {
        "id": "wZfpVf27737b"
      },
      "outputs": [],
      "source": [
        "def leastCost(r, c):\n",
        "  cost=0\n",
        "  col_list=[]\n",
        "  row_list=[]\n",
        "\n",
        "  for i in range(r):\n",
        "      row_list.append(i)\n",
        "  for i in range(c):\n",
        "      col_list.append(i)\n",
        "\n",
        "  cell_min=cell[0][0]\n",
        "  for i in range(r):\n",
        "    for j in range(c):\n",
        "      if cell[i][j]<cell_min:\n",
        "        cell_min=cell[i][j]\n",
        "        s=i\n",
        "        d=j\n",
        "\n",
        "\n",
        "  while s<r and d<c:\n",
        "    if demand[d]<supply[s]:\n",
        "      cost=cost+cell[s][d]*demand[d]\n",
        "      supply[s]=supply[s]-demand[d]\n",
        "      demand[d]=0\n",
        "\n",
        "      if d in col_list:\n",
        "        col_list.remove(d)\n",
        "\n",
        "    elif demand[d]>supply[s]:\n",
        "      cost=cost+cell[s][d]*supply[s]\n",
        "      demand[d]=demand[d]-supply[s]\n",
        "      supply[s]=0\n",
        "\n",
        "      if s in row_list:\n",
        "        row_list.remove(s)\n",
        "\n",
        "    elif demand[d]==supply[s]:\n",
        "      cost=cost+cell[s][d]*supply[s]\n",
        "      supply[s]=0\n",
        "      demand[d]=0\n",
        "\n",
        "      if d in col_list:\n",
        "        col_list.remove(d)\n",
        "      if s in row_list:\n",
        "        row_list.remove(s)\n",
        "\n",
        "    cell_min=cell[row_list[0]][col_list[0]]\n",
        "    for i in row_list:\n",
        "      for j in col_list:\n",
        "        if cell[i][j]<cell_min:\n",
        "          cell_min=cell[i][j]\n",
        "          s=i\n",
        "          d=j\n",
        "\n",
        "  return cost\n",
        "\n",
        "\n",
        "r= int(input(\"Enter the no. of sources: \"))\n",
        "c= int(input(\"Enter the no. of destinations: \"))\n",
        "\n",
        "cell=[]\n",
        "demand=[]\n",
        "supply=[]\n",
        "\n",
        "for i in range(c):\n",
        "  d=int(input(f\"Enter the demand in destination {i+1}: \"))\n",
        "  demand.append(d)\n",
        "\n",
        "for i in range(r):\n",
        "  s=int(input(f\"Enter the supply from source {i+1}: \"))\n",
        "  supply.append(s)\n",
        "\n",
        "for i in range(r):\n",
        "  a=[]\n",
        "  for j in range(c):\n",
        "    cost=int(input(f\"Enter the cost for destination {j+1} source {i+1}: \"))\n",
        "    a.append(cost)\n",
        "  cell.append(a)\n",
        "\n",
        "for i in range(r):\n",
        "  for j in range(c):\n",
        "    print(cell[i][j], end=\" \")\n",
        "  print()\n",
        "\n",
        "tot_cost = leastCost(r, c)\n",
        "print(\"Total cost = \",tot_cost)"
      ]
    }
  ],
  "metadata": {
    "colab": {
      "provenance": [],
      "authorship_tag": "ABX9TyNJ7qzVO6TqUy/x7DIxOZnu",
      "include_colab_link": true
    },
    "kernelspec": {
      "display_name": "Python 3",
      "name": "python3"
    },
    "language_info": {
      "name": "python"
    }
  },
  "nbformat": 4,
  "nbformat_minor": 0
}