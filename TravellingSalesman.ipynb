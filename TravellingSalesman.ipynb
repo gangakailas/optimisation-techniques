{
  "nbformat": 4,
  "nbformat_minor": 0,
  "metadata": {
    "colab": {
      "provenance": [],
      "authorship_tag": "ABX9TyO4DW5twg+MMKdzVvwxKEcc",
      "include_colab_link": true
    },
    "kernelspec": {
      "name": "python3",
      "display_name": "Python 3"
    },
    "language_info": {
      "name": "python"
    }
  },
  "cells": [
    {
      "cell_type": "markdown",
      "metadata": {
        "id": "view-in-github",
        "colab_type": "text"
      },
      "source": [
        "<a href=\"https://colab.research.google.com/github/gangakailas/optimisation-techniques/blob/main/TravellingSalesman.ipynb\" target=\"_parent\"><img src=\"https://colab.research.google.com/assets/colab-badge.svg\" alt=\"Open In Colab\"/></a>"
      ]
    },
    {
      "cell_type": "code",
      "execution_count": 1,
      "metadata": {
        "colab": {
          "base_uri": "https://localhost:8080/"
        },
        "id": "sh6tmUe1YilD",
        "outputId": "1f307175-4631-41d7-db31-a2479b3e85ee"
      },
      "outputs": [
        {
          "output_type": "stream",
          "name": "stdout",
          "text": [
            "Minimum cost of the Traveling Salesman Problem: 80\n",
            "Optimal path: (0, 1, 3, 2)\n"
          ]
        }
      ],
      "source": [
        "from itertools import permutations\n",
        "from sys import maxsize\n",
        "\n",
        "def calculate_cost(path, graph):\n",
        "    cost = 0\n",
        "    for i in range(len(path) - 1):\n",
        "        cost += graph[path[i]][path[i+1]]\n",
        "    cost += graph[path[-1]][path[0]]  # Return to the starting city\n",
        "    return cost\n",
        "\n",
        "def tsp_bruteforce(graph):\n",
        "    num_cities = len(graph)\n",
        "    all_cities = set(range(num_cities))\n",
        "    min_cost = maxsize\n",
        "    optimal_path = None\n",
        "\n",
        "    for perm in permutations(all_cities):\n",
        "        current_cost = calculate_cost(perm, graph)\n",
        "        if current_cost < min_cost:\n",
        "            min_cost = current_cost\n",
        "            optimal_path = perm\n",
        "\n",
        "    return min_cost, optimal_path\n",
        "\n",
        "if __name__ == \"__main__\":\n",
        "    # Example graph (replace with your own adjacency matrix)\n",
        "    graph = [\n",
        "        [0, 10, 15, 20],\n",
        "        [10, 0, 35, 25],\n",
        "        [15, 35, 0, 30],\n",
        "        [20, 25, 30, 0]\n",
        "    ]\n",
        "\n",
        "    result_cost, result_path = tsp_bruteforce(graph)\n",
        "    print(\"Minimum cost of the Traveling Salesman Problem:\", result_cost)\n",
        "    print(\"Optimal path:\", result_path)"
      ]
    }
  ]
}