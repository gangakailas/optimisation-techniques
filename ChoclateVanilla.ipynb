{
  "nbformat": 4,
  "nbformat_minor": 0,
  "metadata": {
    "colab": {
      "provenance": [],
      "authorship_tag": "ABX9TyNzGzx1mUy2de5Hu+GL2gXN",
      "include_colab_link": true
    },
    "kernelspec": {
      "name": "python3",
      "display_name": "Python 3"
    },
    "language_info": {
      "name": "python"
    }
  },
  "cells": [
    {
      "cell_type": "markdown",
      "metadata": {
        "id": "view-in-github",
        "colab_type": "text"
      },
      "source": [
        "<a href=\"https://colab.research.google.com/github/gangakailas/optimisation-techniques/blob/main/ChoclateVanilla.ipynb\" target=\"_parent\"><img src=\"https://colab.research.google.com/assets/colab-badge.svg\" alt=\"Open In Colab\"/></a>"
      ]
    },
    {
      "cell_type": "code",
      "source": [
        "from scipy.optimize import linprog\n",
        "\n",
        "c = [-5, -3]\n",
        "\n",
        "A = [\n",
        "    [2, 1],\n",
        "    [1, 0],\n",
        "    [0, 1],\n",
        "]\n",
        "\n",
        "b = [500, 100, 50]\n",
        "\n",
        "x0_bounds = (0, None)\n",
        "x1_bounds = (0, None)\n",
        "\n",
        "result = linprog(c, A_ub=A, b_ub=b, bounds=[x0_bounds, x1_bounds], method='highs')\n",
        "\n",
        "num_chocolate, num_vanilla = result.x\n",
        "max_revenue = -result.fun\n",
        "\n",
        "print(f\"Cakes of chocolate to make: {round(num_chocolate)}\")\n",
        "print(f\"Cakes of vanilla to make: {round(num_vanilla)}\")\n",
        "print(f\"Maximum revenue: ${round(max_revenue)}\")"
      ],
      "metadata": {
        "colab": {
          "base_uri": "https://localhost:8080/"
        },
        "id": "MBGqGifnVH9w",
        "outputId": "f43d4fe8-e5ed-4ed3-c486-6e41983649c8"
      },
      "execution_count": null,
      "outputs": [
        {
          "output_type": "stream",
          "name": "stdout",
          "text": [
            "Cakes of chocolate to make: 100\n",
            "Cakes of vanilla to make: 50\n",
            "Maximum revenue: $650\n"
          ]
        }
      ]
    }
  ]
}