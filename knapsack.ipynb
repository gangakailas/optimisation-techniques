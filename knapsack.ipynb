{
  "nbformat": 4,
  "nbformat_minor": 0,
  "metadata": {
    "colab": {
      "provenance": [],
      "authorship_tag": "ABX9TyO1sH1tTYWfL6IN67DLg4fu",
      "include_colab_link": true
    },
    "kernelspec": {
      "name": "python3",
      "display_name": "Python 3"
    },
    "language_info": {
      "name": "python"
    }
  },
  "cells": [
    {
      "cell_type": "markdown",
      "metadata": {
        "id": "view-in-github",
        "colab_type": "text"
      },
      "source": [
        "<a href=\"https://colab.research.google.com/github/gangakailas/optimisation-techniques/blob/main/knapsack.ipynb\" target=\"_parent\"><img src=\"https://colab.research.google.com/assets/colab-badge.svg\" alt=\"Open In Colab\"/></a>"
      ]
    },
    {
      "cell_type": "code",
      "execution_count": 2,
      "metadata": {
        "colab": {
          "base_uri": "https://localhost:8080/"
        },
        "id": "-PqmgHG5Zauq",
        "outputId": "c7c18b8c-6c1f-4009-b1bb-e8dc88ef17ac"
      },
      "outputs": [
        {
          "output_type": "stream",
          "name": "stdout",
          "text": [
            "Enter the number of items: 4\n",
            "Enter the weights of items (space-separated): 5 4 6 3\n",
            "Enter the values of items (space-separated): 10 40 30 50\n",
            "Enter the capacity of the knapsack: 10\n",
            "Maximum value in 0/1 Knapsack: 90\n",
            "Selected weights: [3, 4]\n"
          ]
        }
      ],
      "source": [
        "def knapsack_dynamic_programming(weights, values, capacity):\n",
        "    num_items = len(weights)\n",
        "    dp = [[0] * (capacity + 1) for _ in range(num_items + 1)]\n",
        "\n",
        "    for i in range(1, num_items + 1):\n",
        "        for w in range(capacity + 1):\n",
        "            if weights[i - 1] <= w:\n",
        "                dp[i][w] = max(values[i - 1] + dp[i - 1][w - weights[i - 1]], dp[i - 1][w])\n",
        "            else:\n",
        "                dp[i][w] = dp[i - 1][w]\n",
        "\n",
        "    # Find the selected weights\n",
        "    selected_weights = []\n",
        "    i, w = num_items, capacity\n",
        "    while i > 0 and w > 0:\n",
        "        if dp[i][w] != dp[i - 1][w]:\n",
        "            selected_weights.append(weights[i - 1])\n",
        "            w -= weights[i - 1]\n",
        "        i -= 1\n",
        "\n",
        "    return dp[num_items][capacity], selected_weights\n",
        "\n",
        "if __name__ == \"__main__\":\n",
        "    # User input for weights, values, and capacity\n",
        "    num_items = int(input(\"Enter the number of items: \"))\n",
        "    weights = list(map(int, input(\"Enter the weights of items (space-separated): \").split()))\n",
        "    values = list(map(int, input(\"Enter the values of items (space-separated): \").split()))\n",
        "    capacity = int(input(\"Enter the capacity of the knapsack: \"))\n",
        "\n",
        "    result_value, selected_weights = knapsack_dynamic_programming(weights, values, capacity)\n",
        "    print(\"Maximum value in 0/1 Knapsack:\", result_value)\n",
        "    print(\"Selected weights:\", selected_weights)"
      ]
    }
  ]
}