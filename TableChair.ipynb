{
  "nbformat": 4,
  "nbformat_minor": 0,
  "metadata": {
    "colab": {
      "provenance": [],
      "authorship_tag": "ABX9TyNrKfHZxI22oV9slO99MlgE",
      "include_colab_link": true
    },
    "kernelspec": {
      "name": "python3",
      "display_name": "Python 3"
    },
    "language_info": {
      "name": "python"
    }
  },
  "cells": [
    {
      "cell_type": "markdown",
      "metadata": {
        "id": "view-in-github",
        "colab_type": "text"
      },
      "source": [
        "<a href=\"https://colab.research.google.com/github/gangakailas/optimisation-techniques/blob/main/TableChair.ipynb\" target=\"_parent\"><img src=\"https://colab.research.google.com/assets/colab-badge.svg\" alt=\"Open In Colab\"/></a>"
      ]
    },
    {
      "cell_type": "code",
      "execution_count": null,
      "metadata": {
        "colab": {
          "base_uri": "https://localhost:8080/"
        },
        "id": "QvDzP7KOGreK",
        "outputId": "277df39a-a48a-4093-887a-64c7a13fda47"
      },
      "outputs": [
        {
          "output_type": "stream",
          "name": "stdout",
          "text": [
            "Number of chairs to produce: 19.64285714285714\n",
            "Number of tables to produce: 21.071428571428573\n",
            "Maximum profit: $1025.00\n"
          ]
        }
      ],
      "source": [
        "from scipy.optimize import linprog\n",
        "\n",
        "c = [-20, -30]\n",
        "\n",
        "A = [[1, 5], [3, 1]]\n",
        "b = [125, 80]\n",
        "\n",
        "x0_bounds = (0, None)\n",
        "x1_bounds = (0, None)\n",
        "\n",
        "result = linprog(c, A_ub=A, b_ub=b, bounds=[x0_bounds, x1_bounds], method='highs')\n",
        "\n",
        "num_chairs = result.x[0]\n",
        "num_tables = result.x[1]\n",
        "max_profit = -result.fun\n",
        "\n",
        "print(f\"Number of chairs to produce: {num_chairs}\")\n",
        "print(f\"Number of tables to produce: {num_tables}\")\n",
        "print(f\"Maximum profit: ${max_profit:.2f}\")\n"
      ]
    }
  ]
}