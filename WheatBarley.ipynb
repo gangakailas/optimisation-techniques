{
  "nbformat": 4,
  "nbformat_minor": 0,
  "metadata": {
    "colab": {
      "provenance": [],
      "authorship_tag": "ABX9TyPkJsGVG/MDe9cJbA5pnVGr",
      "include_colab_link": true
    },
    "kernelspec": {
      "name": "python3",
      "display_name": "Python 3"
    },
    "language_info": {
      "name": "python"
    }
  },
  "cells": [
    {
      "cell_type": "markdown",
      "metadata": {
        "id": "view-in-github",
        "colab_type": "text"
      },
      "source": [
        "<a href=\"https://colab.research.google.com/github/gangakailas/optimisation-techniques/blob/main/WheatBarley.ipynb\" target=\"_parent\"><img src=\"https://colab.research.google.com/assets/colab-badge.svg\" alt=\"Open In Colab\"/></a>"
      ]
    },
    {
      "cell_type": "code",
      "source": [
        "\n",
        "c = [-200, -150]\n",
        "\n",
        "A = [\n",
        "    [20, 10],\n",
        "    [10, 15]\n",
        "]\n",
        "\n",
        "b = [1200, 600]\n",
        "\n",
        "x0_bounds = (20, None)\n",
        "x1_bounds = (10, None)\n",
        "\n",
        "result = linprog(c, A_ub=A, b_ub=b, bounds=[x0_bounds, x1_bounds], method='highs')\n",
        "\n",
        "acres_wheat, acres_barley = result.x\n",
        "max_profit = -result.fun\n",
        "\n",
        "print(f\"Acres of wheat to plant: {round(acres_wheat)}\")\n",
        "print(f\"Acres of barley to plant: {round(acres_barley)}\")\n",
        "print(f\"Maximum profit: ${round(max_profit)}\")"
      ],
      "metadata": {
        "id": "28UPDGygSyHW",
        "colab": {
          "base_uri": "https://localhost:8080/"
        },
        "outputId": "719352aa-d1aa-4fcb-9a34-b58c2e1a4ed5"
      },
      "execution_count": null,
      "outputs": [
        {
          "output_type": "stream",
          "name": "stdout",
          "text": [
            "Acres of wheat to plant: 45\n",
            "Acres of barley to plant: 10\n",
            "Maximum profit: $10500\n"
          ]
        }
      ]
    }
  ]
}